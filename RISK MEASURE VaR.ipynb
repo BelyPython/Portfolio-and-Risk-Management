{
 "cells": [
  {
   "cell_type": "code",
   "execution_count": 1,
   "metadata": {},
   "outputs": [],
   "source": [
    "import pandas as pd\n",
    "import numpy as np\n",
    "import matplotlib.pyplot as plt\n",
    "import datetime as dt\n",
    "pd.core.common.is_list_like = pd.api.types.is_list_like\n",
    "import fix_yahoo_finance as yf\n",
    "from pandas_datareader import data as pdr\n",
    "from scipy.stats import norm"
   ]
  },
  {
   "cell_type": "code",
   "execution_count": 2,
   "metadata": {},
   "outputs": [],
   "source": [
    "ticker = ['SAN.MC','TEF.MC','SGRE.MC','ENG.MC','ITX.MC'] # TAKE THESE 5 STOCKS FROM IBEX 35 INDEX AS A EXAMPLE\n",
    "weights = np.array([0.2,0.2,0.2,0.2,0.2]) #CREATE AN ARRAY WITH THE WEIGHTS\n",
    "fecha_inicio = '2017-01-01'\n",
    "fecha_final = dt.datetime.today()"
   ]
  },
  {
   "cell_type": "code",
   "execution_count": 3,
   "metadata": {},
   "outputs": [
    {
     "name": "stdout",
     "output_type": "stream",
     "text": [
      "[*********************100%***********************]  5 of 5 downloaded\n"
     ]
    }
   ],
   "source": [
    "yf.pdr_override() # GET THE DATA FROM YAHOO FINANCE\n",
    "security = pdr.get_data_yahoo(ticker, \n",
    "                           fecha_inicio,\n",
    "                            fecha_final)['Adj Close']"
   ]
  },
  {
   "cell_type": "code",
   "execution_count": 4,
   "metadata": {},
   "outputs": [
    {
     "data": {
      "text/html": [
       "<div>\n",
       "<style scoped>\n",
       "    .dataframe tbody tr th:only-of-type {\n",
       "        vertical-align: middle;\n",
       "    }\n",
       "\n",
       "    .dataframe tbody tr th {\n",
       "        vertical-align: top;\n",
       "    }\n",
       "\n",
       "    .dataframe thead th {\n",
       "        text-align: right;\n",
       "    }\n",
       "</style>\n",
       "<table border=\"1\" class=\"dataframe\">\n",
       "  <thead>\n",
       "    <tr style=\"text-align: right;\">\n",
       "      <th></th>\n",
       "      <th>ENG.MC</th>\n",
       "      <th>ITX.MC</th>\n",
       "      <th>SAN.MC</th>\n",
       "      <th>SGRE.MC</th>\n",
       "      <th>TEF.MC</th>\n",
       "    </tr>\n",
       "    <tr>\n",
       "      <th>Date</th>\n",
       "      <th></th>\n",
       "      <th></th>\n",
       "      <th></th>\n",
       "      <th></th>\n",
       "      <th></th>\n",
       "    </tr>\n",
       "  </thead>\n",
       "  <tbody>\n",
       "    <tr>\n",
       "      <th>2017-01-02</th>\n",
       "      <td>22.272337</td>\n",
       "      <td>31.342033</td>\n",
       "      <td>4.478954</td>\n",
       "      <td>17.511244</td>\n",
       "      <td>8.054496</td>\n",
       "    </tr>\n",
       "    <tr>\n",
       "      <th>2017-01-03</th>\n",
       "      <td>21.912737</td>\n",
       "      <td>31.029575</td>\n",
       "      <td>4.587560</td>\n",
       "      <td>17.466572</td>\n",
       "      <td>8.132766</td>\n",
       "    </tr>\n",
       "    <tr>\n",
       "      <th>2017-01-04</th>\n",
       "      <td>21.703350</td>\n",
       "      <td>30.736343</td>\n",
       "      <td>4.608213</td>\n",
       "      <td>17.404032</td>\n",
       "      <td>8.148237</td>\n",
       "    </tr>\n",
       "    <tr>\n",
       "      <th>2017-01-05</th>\n",
       "      <td>21.817148</td>\n",
       "      <td>30.236410</td>\n",
       "      <td>4.621674</td>\n",
       "      <td>17.323624</td>\n",
       "      <td>8.321159</td>\n",
       "    </tr>\n",
       "    <tr>\n",
       "      <th>2017-01-06</th>\n",
       "      <td>21.780733</td>\n",
       "      <td>30.452726</td>\n",
       "      <td>4.647701</td>\n",
       "      <td>17.386164</td>\n",
       "      <td>8.368484</td>\n",
       "    </tr>\n",
       "  </tbody>\n",
       "</table>\n",
       "</div>"
      ],
      "text/plain": [
       "               ENG.MC     ITX.MC    SAN.MC    SGRE.MC    TEF.MC\n",
       "Date                                                           \n",
       "2017-01-02  22.272337  31.342033  4.478954  17.511244  8.054496\n",
       "2017-01-03  21.912737  31.029575  4.587560  17.466572  8.132766\n",
       "2017-01-04  21.703350  30.736343  4.608213  17.404032  8.148237\n",
       "2017-01-05  21.817148  30.236410  4.621674  17.323624  8.321159\n",
       "2017-01-06  21.780733  30.452726  4.647701  17.386164  8.368484"
      ]
     },
     "execution_count": 4,
     "metadata": {},
     "output_type": "execute_result"
    }
   ],
   "source": [
    "security.head()"
   ]
  },
  {
   "cell_type": "code",
   "execution_count": 5,
   "metadata": {},
   "outputs": [
    {
     "data": {
      "text/html": [
       "<div>\n",
       "<style scoped>\n",
       "    .dataframe tbody tr th:only-of-type {\n",
       "        vertical-align: middle;\n",
       "    }\n",
       "\n",
       "    .dataframe tbody tr th {\n",
       "        vertical-align: top;\n",
       "    }\n",
       "\n",
       "    .dataframe thead th {\n",
       "        text-align: right;\n",
       "    }\n",
       "</style>\n",
       "<table border=\"1\" class=\"dataframe\">\n",
       "  <thead>\n",
       "    <tr style=\"text-align: right;\">\n",
       "      <th></th>\n",
       "      <th>ENG.MC</th>\n",
       "      <th>ITX.MC</th>\n",
       "      <th>SAN.MC</th>\n",
       "      <th>SGRE.MC</th>\n",
       "      <th>TEF.MC</th>\n",
       "    </tr>\n",
       "    <tr>\n",
       "      <th>Date</th>\n",
       "      <th></th>\n",
       "      <th></th>\n",
       "      <th></th>\n",
       "      <th></th>\n",
       "      <th></th>\n",
       "    </tr>\n",
       "  </thead>\n",
       "  <tbody>\n",
       "    <tr>\n",
       "      <th>2017-01-02</th>\n",
       "      <td>NaN</td>\n",
       "      <td>NaN</td>\n",
       "      <td>NaN</td>\n",
       "      <td>NaN</td>\n",
       "      <td>NaN</td>\n",
       "    </tr>\n",
       "    <tr>\n",
       "      <th>2017-01-03</th>\n",
       "      <td>-0.016146</td>\n",
       "      <td>-0.009969</td>\n",
       "      <td>0.024248</td>\n",
       "      <td>-0.002551</td>\n",
       "      <td>0.009718</td>\n",
       "    </tr>\n",
       "    <tr>\n",
       "      <th>2017-01-04</th>\n",
       "      <td>-0.009555</td>\n",
       "      <td>-0.009450</td>\n",
       "      <td>0.004502</td>\n",
       "      <td>-0.003581</td>\n",
       "      <td>0.001902</td>\n",
       "    </tr>\n",
       "    <tr>\n",
       "      <th>2017-01-05</th>\n",
       "      <td>0.005243</td>\n",
       "      <td>-0.016265</td>\n",
       "      <td>0.002921</td>\n",
       "      <td>-0.004620</td>\n",
       "      <td>0.021222</td>\n",
       "    </tr>\n",
       "    <tr>\n",
       "      <th>2017-01-06</th>\n",
       "      <td>-0.001669</td>\n",
       "      <td>0.007154</td>\n",
       "      <td>0.005632</td>\n",
       "      <td>0.003610</td>\n",
       "      <td>0.005687</td>\n",
       "    </tr>\n",
       "  </tbody>\n",
       "</table>\n",
       "</div>"
      ],
      "text/plain": [
       "              ENG.MC    ITX.MC    SAN.MC   SGRE.MC    TEF.MC\n",
       "Date                                                        \n",
       "2017-01-02       NaN       NaN       NaN       NaN       NaN\n",
       "2017-01-03 -0.016146 -0.009969  0.024248 -0.002551  0.009718\n",
       "2017-01-04 -0.009555 -0.009450  0.004502 -0.003581  0.001902\n",
       "2017-01-05  0.005243 -0.016265  0.002921 -0.004620  0.021222\n",
       "2017-01-06 -0.001669  0.007154  0.005632  0.003610  0.005687"
      ]
     },
     "execution_count": 5,
     "metadata": {},
     "output_type": "execute_result"
    }
   ],
   "source": [
    "returns = security.pct_change()\n",
    "returns.head()"
   ]
  },
  {
   "cell_type": "code",
   "execution_count": 6,
   "metadata": {},
   "outputs": [
    {
     "data": {
      "text/html": [
       "<div>\n",
       "<style scoped>\n",
       "    .dataframe tbody tr th:only-of-type {\n",
       "        vertical-align: middle;\n",
       "    }\n",
       "\n",
       "    .dataframe tbody tr th {\n",
       "        vertical-align: top;\n",
       "    }\n",
       "\n",
       "    .dataframe thead th {\n",
       "        text-align: right;\n",
       "    }\n",
       "</style>\n",
       "<table border=\"1\" class=\"dataframe\">\n",
       "  <thead>\n",
       "    <tr style=\"text-align: right;\">\n",
       "      <th></th>\n",
       "      <th>ENG.MC</th>\n",
       "      <th>ITX.MC</th>\n",
       "      <th>SAN.MC</th>\n",
       "      <th>SGRE.MC</th>\n",
       "      <th>TEF.MC</th>\n",
       "    </tr>\n",
       "  </thead>\n",
       "  <tbody>\n",
       "    <tr>\n",
       "      <th>ENG.MC</th>\n",
       "      <td>0.000095</td>\n",
       "      <td>0.000036</td>\n",
       "      <td>0.000040</td>\n",
       "      <td>0.000032</td>\n",
       "      <td>0.000049</td>\n",
       "    </tr>\n",
       "    <tr>\n",
       "      <th>ITX.MC</th>\n",
       "      <td>0.000036</td>\n",
       "      <td>0.000142</td>\n",
       "      <td>0.000052</td>\n",
       "      <td>0.000051</td>\n",
       "      <td>0.000049</td>\n",
       "    </tr>\n",
       "    <tr>\n",
       "      <th>SAN.MC</th>\n",
       "      <td>0.000040</td>\n",
       "      <td>0.000052</td>\n",
       "      <td>0.000189</td>\n",
       "      <td>0.000065</td>\n",
       "      <td>0.000091</td>\n",
       "    </tr>\n",
       "    <tr>\n",
       "      <th>SGRE.MC</th>\n",
       "      <td>0.000032</td>\n",
       "      <td>0.000051</td>\n",
       "      <td>0.000065</td>\n",
       "      <td>0.000450</td>\n",
       "      <td>0.000045</td>\n",
       "    </tr>\n",
       "    <tr>\n",
       "      <th>TEF.MC</th>\n",
       "      <td>0.000049</td>\n",
       "      <td>0.000049</td>\n",
       "      <td>0.000091</td>\n",
       "      <td>0.000045</td>\n",
       "      <td>0.000113</td>\n",
       "    </tr>\n",
       "  </tbody>\n",
       "</table>\n",
       "</div>"
      ],
      "text/plain": [
       "           ENG.MC    ITX.MC    SAN.MC   SGRE.MC    TEF.MC\n",
       "ENG.MC   0.000095  0.000036  0.000040  0.000032  0.000049\n",
       "ITX.MC   0.000036  0.000142  0.000052  0.000051  0.000049\n",
       "SAN.MC   0.000040  0.000052  0.000189  0.000065  0.000091\n",
       "SGRE.MC  0.000032  0.000051  0.000065  0.000450  0.000045\n",
       "TEF.MC   0.000049  0.000049  0.000091  0.000045  0.000113"
      ]
     },
     "execution_count": 6,
     "metadata": {},
     "output_type": "execute_result"
    }
   ],
   "source": [
    "#COVARIANCE MATRIX\n",
    "cov_matrix = returns.cov()\n",
    "cov_matrix"
   ]
  },
  {
   "cell_type": "code",
   "execution_count": 7,
   "metadata": {},
   "outputs": [
    {
     "data": {
      "text/plain": [
       "ENG.MC     0.000243\n",
       "ITX.MC    -0.000440\n",
       "SAN.MC    -0.000032\n",
       "SGRE.MC   -0.000552\n",
       "TEF.MC    -0.000300\n",
       "dtype: float64"
      ]
     },
     "execution_count": 7,
     "metadata": {},
     "output_type": "execute_result"
    }
   ],
   "source": [
    "avg_rets = returns.mean()\n",
    "avg_rets"
   ]
  },
  {
   "cell_type": "code",
   "execution_count": 8,
   "metadata": {},
   "outputs": [],
   "source": [
    "port_ret = avg_rets.dot(weights) #DAILY"
   ]
  },
  {
   "cell_type": "code",
   "execution_count": 9,
   "metadata": {},
   "outputs": [],
   "source": [
    "port_std = np.sqrt(np.dot(weights.T, np.dot(cov_matrix, weights))) #DAILY"
   ]
  },
  {
   "cell_type": "code",
   "execution_count": 10,
   "metadata": {},
   "outputs": [],
   "source": [
    "investment = 100000"
   ]
  },
  {
   "cell_type": "code",
   "execution_count": 11,
   "metadata": {},
   "outputs": [],
   "source": [
    "mean_investment = (1 + port_ret) * investment"
   ]
  },
  {
   "cell_type": "code",
   "execution_count": 12,
   "metadata": {},
   "outputs": [],
   "source": [
    "investmente_stv = investment * port_std"
   ]
  },
  {
   "cell_type": "code",
   "execution_count": 13,
   "metadata": {},
   "outputs": [
    {
     "name": "stdout",
     "output_type": "stream",
     "text": [
      "we are calculating var 99.0 %\n"
     ]
    }
   ],
   "source": [
    "conf_levl = 0.01\n",
    "print('we are calculating var ' +str((1- conf_levl)*100)+' %')"
   ]
  },
  {
   "cell_type": "markdown",
   "metadata": {},
   "source": [
    "# calculating the var"
   ]
  },
  {
   "cell_type": "code",
   "execution_count": 14,
   "metadata": {},
   "outputs": [
    {
     "data": {
      "text/plain": [
       "97892.18574604872"
      ]
     },
     "execution_count": 14,
     "metadata": {},
     "output_type": "execute_result"
    }
   ],
   "source": [
    "cut = norm.ppf(conf_levl, mean_investment,investmente_stv)\n",
    "cut"
   ]
  },
  {
   "cell_type": "code",
   "execution_count": 15,
   "metadata": {},
   "outputs": [
    {
     "name": "stdout",
     "output_type": "stream",
     "text": [
      "In one day you can lose : 2107.81 euros\n",
      "this is equivalent to: 2.11 % of your portfolio\n"
     ]
    }
   ],
   "source": [
    "var_1d = investment - cut\n",
    "var_1d\n",
    "print('In one day you can lose : '+str(np.round(var_1d,2)) +' euros')\n",
    "print('this is equivalent to: ' +str (np.round((var_1d / investment)*100,2))+' % of your portfolio')"
   ]
  },
  {
   "cell_type": "code",
   "execution_count": 16,
   "metadata": {},
   "outputs": [],
   "source": [
    "# Var at different time frames"
   ]
  },
  {
   "cell_type": "code",
   "execution_count": 17,
   "metadata": {},
   "outputs": [],
   "source": [
    "num_days = 8"
   ]
  },
  {
   "cell_type": "code",
   "execution_count": 18,
   "metadata": {},
   "outputs": [
    {
     "name": "stdout",
     "output_type": "stream",
     "text": [
      "ANNUAL VAR: 33460.51 EUROS\n"
     ]
    }
   ],
   "source": [
    "print('ANNUAL VAR: ' +str(np.round(var_1d * np.sqrt(252),2))+ ' EUROS')"
   ]
  },
  {
   "cell_type": "code",
   "execution_count": 19,
   "metadata": {},
   "outputs": [
    {
     "name": "stdout",
     "output_type": "stream",
     "text": [
      "0 day VaR: 0.0\n",
      "1 day VaR: 2107.81\n",
      "2 day VaR: 2980.9\n",
      "3 day VaR: 3650.84\n",
      "4 day VaR: 4215.63\n",
      "5 day VaR: 4713.22\n",
      "6 day VaR: 5163.07\n",
      "7 day VaR: 5576.75\n"
     ]
    }
   ],
   "source": [
    "for x in range(0,num_days):\n",
    "    print(str(x) + ' day VaR: ' + str(np.round(var_1d * np.sqrt(x), 2))) "
   ]
  }
 ],
 "metadata": {
  "kernelspec": {
   "display_name": "Python 3",
   "language": "python",
   "name": "python3"
  },
  "language_info": {
   "codemirror_mode": {
    "name": "ipython",
    "version": 3
   },
   "file_extension": ".py",
   "mimetype": "text/x-python",
   "name": "python",
   "nbconvert_exporter": "python",
   "pygments_lexer": "ipython3",
   "version": "3.6.5"
  }
 },
 "nbformat": 4,
 "nbformat_minor": 2
}

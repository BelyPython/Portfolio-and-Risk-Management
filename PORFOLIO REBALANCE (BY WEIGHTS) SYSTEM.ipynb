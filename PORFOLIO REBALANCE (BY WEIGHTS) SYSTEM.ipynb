{
 "cells": [
  {
   "cell_type": "code",
   "execution_count": 1,
   "metadata": {},
   "outputs": [],
   "source": [
    "import numpy as np\n",
    "import pandas as pd\n",
    "import datetime as dt\n",
    "from datetime import date, timedelta\n",
    "from matplotlib import style\n",
    "pd.core.common.is_list_like = pd.api.types.is_list_like\n",
    "import fix_yahoo_finance as yf\n",
    "from pandas_datareader import data as pdr"
   ]
  },
  {
   "cell_type": "code",
   "execution_count": 2,
   "metadata": {},
   "outputs": [],
   "source": [
    "ticker = ['SAN.MC','TEF.MC','SGRE.MC','ENG.MC','ITX.MC']\n",
    "allocations = [20,20,20,20,20] # numero de acciones que colocaremos \n",
    "buy_in_date = '2017-08-28'\n"
   ]
  },
  {
   "cell_type": "code",
   "execution_count": 3,
   "metadata": {},
   "outputs": [],
   "source": [
    "fecha_inicio= buy_in_date\n",
    "fecha_final= buy_in_date"
   ]
  },
  {
   "cell_type": "code",
   "execution_count": 4,
   "metadata": {},
   "outputs": [
    {
     "name": "stdout",
     "output_type": "stream",
     "text": [
      "[*********************100%***********************]  5 of 5 downloaded\n"
     ]
    }
   ],
   "source": [
    "\n",
    "yf.pdr_override() \n",
    "price_data_today = pdr.get_data_yahoo(ticker, \n",
    "                           fecha_inicio,\n",
    "                            fecha_final)['Adj Close']"
   ]
  },
  {
   "cell_type": "code",
   "execution_count": 5,
   "metadata": {},
   "outputs": [],
   "source": [
    "allocation_df = pd.DataFrame({'Symbol': ticker, 'Allocations': allocations}).set_index('Symbol')\n",
    "\n",
    "equity_positions = price_data_today * allocations\n",
    "port_val_today = equity_positions.sum().sum()\n",
    "weights = equity_positions /port_val_today\n",
    "price_data = price_data_today.transpose()\n",
    "\n",
    "\n",
    "\n"
   ]
  },
  {
   "cell_type": "markdown",
   "metadata": {},
   "source": [
    "# REBALANCEO"
   ]
  },
  {
   "cell_type": "code",
   "execution_count": 6,
   "metadata": {},
   "outputs": [
    {
     "name": "stdout",
     "output_type": "stream",
     "text": [
      "[*********************100%***********************]  5 of 5 downloaded\n"
     ]
    }
   ],
   "source": [
    "#########################################################################################################################\n",
    "buy_in_date = dt.datetime(2018, 8,28)\n",
    "price_at_buy_in = pdr.get_data_yahoo(ticker, \n",
    "                           buy_in_date,\n",
    "                            buy_in_date)['Adj Close']"
   ]
  },
  {
   "cell_type": "code",
   "execution_count": 7,
   "metadata": {},
   "outputs": [],
   "source": [
    "equity_positions_prior = price_at_buy_in * allocations     #mutiplication de price por allocations (numero de acciones)\n",
    "equity_positons_prior = equity_positions_prior.transpose() # lo transformo en un vector\n",
    "\n",
    "port_value_prior =np.sum(equity_positions_prior).sum()\n",
    "\n",
    "\n",
    "weights_prior = equity_positions_prior / port_value_prior"
   ]
  },
  {
   "cell_type": "code",
   "execution_count": 9,
   "metadata": {},
   "outputs": [
    {
     "data": {
      "text/html": [
       "<div>\n",
       "<style scoped>\n",
       "    .dataframe tbody tr th:only-of-type {\n",
       "        vertical-align: middle;\n",
       "    }\n",
       "\n",
       "    .dataframe tbody tr th {\n",
       "        vertical-align: top;\n",
       "    }\n",
       "\n",
       "    .dataframe thead th {\n",
       "        text-align: right;\n",
       "    }\n",
       "</style>\n",
       "<table border=\"1\" class=\"dataframe\">\n",
       "  <thead>\n",
       "    <tr style=\"text-align: right;\">\n",
       "      <th>Date</th>\n",
       "      <th>2017-08-28 00:00:00</th>\n",
       "    </tr>\n",
       "  </thead>\n",
       "  <tbody>\n",
       "    <tr>\n",
       "      <th>ENG.MC</th>\n",
       "      <td>0.283291</td>\n",
       "    </tr>\n",
       "    <tr>\n",
       "      <th>ITX.MC</th>\n",
       "      <td>0.397442</td>\n",
       "    </tr>\n",
       "    <tr>\n",
       "      <th>SAN.MC</th>\n",
       "      <td>0.063508</td>\n",
       "    </tr>\n",
       "    <tr>\n",
       "      <th>SGRE.MC</th>\n",
       "      <td>0.152731</td>\n",
       "    </tr>\n",
       "    <tr>\n",
       "      <th>TEF.MC</th>\n",
       "      <td>0.103028</td>\n",
       "    </tr>\n",
       "  </tbody>\n",
       "</table>\n",
       "</div>"
      ],
      "text/plain": [
       "Date     2017-08-28\n",
       "ENG.MC     0.283291\n",
       "ITX.MC     0.397442\n",
       "SAN.MC     0.063508\n",
       "SGRE.MC    0.152731\n",
       "TEF.MC     0.103028"
      ]
     },
     "execution_count": 9,
     "metadata": {},
     "output_type": "execute_result"
    }
   ],
   "source": [
    "weights.transpose()"
   ]
  },
  {
   "cell_type": "code",
   "execution_count": 24,
   "metadata": {},
   "outputs": [
    {
     "name": "stderr",
     "output_type": "stream",
     "text": [
      "C:\\Users\\abelb\\AppData\\Local\\Continuum\\anaconda3\\lib\\site-packages\\ipykernel_launcher.py:1: FutureWarning: Sorting because non-concatenation axis is not aligned. A future version\n",
      "of pandas will change to not sort by default.\n",
      "\n",
      "To accept the future behavior, pass 'sort=True'.\n",
      "\n",
      "To retain the current behavior and silence the warning, pass sort=False\n",
      "\n",
      "  \"\"\"Entry point for launching an IPython kernel.\n"
     ]
    },
    {
     "data": {
      "text/html": [
       "<div>\n",
       "<style scoped>\n",
       "    .dataframe tbody tr th:only-of-type {\n",
       "        vertical-align: middle;\n",
       "    }\n",
       "\n",
       "    .dataframe tbody tr th {\n",
       "        vertical-align: top;\n",
       "    }\n",
       "\n",
       "    .dataframe thead th {\n",
       "        text-align: right;\n",
       "    }\n",
       "</style>\n",
       "<table border=\"1\" class=\"dataframe\">\n",
       "  <thead>\n",
       "    <tr style=\"text-align: right;\">\n",
       "      <th></th>\n",
       "      <th>original num shares</th>\n",
       "      <th>current share price</th>\n",
       "      <th>current weights</th>\n",
       "      <th>weights prior</th>\n",
       "      <th>Status</th>\n",
       "    </tr>\n",
       "  </thead>\n",
       "  <tbody>\n",
       "    <tr>\n",
       "      <th>ENG.MC</th>\n",
       "      <td>20</td>\n",
       "      <td>23.064991</td>\n",
       "      <td>0.283291</td>\n",
       "      <td>0.311534</td>\n",
       "      <td>Underweight</td>\n",
       "    </tr>\n",
       "    <tr>\n",
       "      <th>ITX.MC</th>\n",
       "      <td>20</td>\n",
       "      <td>32.358917</td>\n",
       "      <td>0.397442</td>\n",
       "      <td>0.367527</td>\n",
       "      <td>Overweight</td>\n",
       "    </tr>\n",
       "    <tr>\n",
       "      <th>SAN.MC</th>\n",
       "      <td>20</td>\n",
       "      <td>5.170694</td>\n",
       "      <td>0.063508</td>\n",
       "      <td>0.056668</td>\n",
       "      <td>Overweight</td>\n",
       "    </tr>\n",
       "    <tr>\n",
       "      <th>SGRE.MC</th>\n",
       "      <td>20</td>\n",
       "      <td>12.435000</td>\n",
       "      <td>0.152731</td>\n",
       "      <td>0.169863</td>\n",
       "      <td>Underweight</td>\n",
       "    </tr>\n",
       "    <tr>\n",
       "      <th>TEF.MC</th>\n",
       "      <td>20</td>\n",
       "      <td>8.388310</td>\n",
       "      <td>0.103028</td>\n",
       "      <td>0.094409</td>\n",
       "      <td>Overweight</td>\n",
       "    </tr>\n",
       "  </tbody>\n",
       "</table>\n",
       "</div>"
      ],
      "text/plain": [
       "         original num shares  current share price  current weights  \\\n",
       "ENG.MC                    20            23.064991         0.283291   \n",
       "ITX.MC                    20            32.358917         0.397442   \n",
       "SAN.MC                    20             5.170694         0.063508   \n",
       "SGRE.MC                   20            12.435000         0.152731   \n",
       "TEF.MC                    20             8.388310         0.103028   \n",
       "\n",
       "         weights prior       Status  \n",
       "ENG.MC        0.311534  Underweight  \n",
       "ITX.MC        0.367527   Overweight  \n",
       "SAN.MC        0.056668   Overweight  \n",
       "SGRE.MC       0.169863  Underweight  \n",
       "TEF.MC        0.094409   Overweight  "
      ]
     },
     "execution_count": 24,
     "metadata": {},
     "output_type": "execute_result"
    }
   ],
   "source": [
    "result = pd.concat([allocation_df, price_data, weights.transpose(), weights_prior.transpose() ], axis = 1)\n",
    "result.columns = ['original num shares', 'current share price', 'current weights', 'weights prior']\n",
    "result['Status'] = np.where(result['current weights'] >result['weights prior'], 'Overweight', 'Underweight' )\n",
    "result"
   ]
  },
  {
   "cell_type": "code",
   "execution_count": 25,
   "metadata": {},
   "outputs": [],
   "source": [
    "solve_weights = []\n",
    "for r in range(0,5):\n",
    "    x = 0.00\n",
    "    al = result.iloc[r,0] # numero de acciones\n",
    "    sp = result.iloc[r, 1] # stock price\n",
    "    eq = al * sp # posicion del capital\n",
    "    cw = eq /port_val_today # current weight\n",
    "    status = result.iloc[r, 4] # over / under\n",
    "    dw = result.iloc[r,3] # peso deseado\n",
    "    \n",
    "    while True:\n",
    "        e = x * sp\n",
    "        w = e/port_val_today\n",
    "        x+= 0.01\n",
    "        \n",
    "        if status == 'Overweight':\n",
    "            if w >= dw:\n",
    "                solve_weights.append(int(x))\n",
    "                break\n",
    "                \n",
    "        elif status == 'Underweight':\n",
    "            if w >= dw:\n",
    "                solve_weights.append(int(x))\n",
    "                break\n",
    "        else:\n",
    "            break"
   ]
  },
  {
   "cell_type": "code",
   "execution_count": 26,
   "metadata": {},
   "outputs": [
    {
     "name": "stdout",
     "output_type": "stream",
     "text": [
      "Number of Shares to Buy/Sell\n"
     ]
    },
    {
     "name": "stderr",
     "output_type": "stream",
     "text": [
      "C:\\Users\\abelb\\AppData\\Local\\Continuum\\anaconda3\\lib\\site-packages\\ipykernel_launcher.py:3: FutureWarning: Sorting because non-concatenation axis is not aligned. A future version\n",
      "of pandas will change to not sort by default.\n",
      "\n",
      "To accept the future behavior, pass 'sort=True'.\n",
      "\n",
      "To retain the current behavior and silence the warning, pass sort=False\n",
      "\n",
      "  This is separate from the ipykernel package so we can avoid doing imports until\n"
     ]
    },
    {
     "data": {
      "text/html": [
       "<div>\n",
       "<style scoped>\n",
       "    .dataframe tbody tr th:only-of-type {\n",
       "        vertical-align: middle;\n",
       "    }\n",
       "\n",
       "    .dataframe tbody tr th {\n",
       "        vertical-align: top;\n",
       "    }\n",
       "\n",
       "    .dataframe thead th {\n",
       "        text-align: right;\n",
       "    }\n",
       "</style>\n",
       "<table border=\"1\" class=\"dataframe\">\n",
       "  <thead>\n",
       "    <tr style=\"text-align: right;\">\n",
       "      <th></th>\n",
       "      <th>Action</th>\n",
       "      <th># Buy/Sell</th>\n",
       "    </tr>\n",
       "  </thead>\n",
       "  <tbody>\n",
       "    <tr>\n",
       "      <th>ENG.MC</th>\n",
       "      <td>Buy</td>\n",
       "      <td>2</td>\n",
       "    </tr>\n",
       "    <tr>\n",
       "      <th>ITX.MC</th>\n",
       "      <td>Sell</td>\n",
       "      <td>2</td>\n",
       "    </tr>\n",
       "    <tr>\n",
       "      <th>SAN.MC</th>\n",
       "      <td>Sell</td>\n",
       "      <td>-2</td>\n",
       "    </tr>\n",
       "    <tr>\n",
       "      <th>SGRE.MC</th>\n",
       "      <td>Buy</td>\n",
       "      <td>-3</td>\n",
       "    </tr>\n",
       "    <tr>\n",
       "      <th>TEF.MC</th>\n",
       "      <td>Sell</td>\n",
       "      <td>2</td>\n",
       "    </tr>\n",
       "  </tbody>\n",
       "</table>\n",
       "</div>"
      ],
      "text/plain": [
       "        Action  # Buy/Sell\n",
       "ENG.MC     Buy           2\n",
       "ITX.MC    Sell           2\n",
       "SAN.MC    Sell          -2\n",
       "SGRE.MC    Buy          -3\n",
       "TEF.MC    Sell           2"
      ]
     },
     "execution_count": 26,
     "metadata": {},
     "output_type": "execute_result"
    }
   ],
   "source": [
    "solve_weights = pd.DataFrame({'Symbol':ticker,\n",
    "                             'New Share Amount':solve_weights}).set_index('Symbol')\n",
    "result = pd.concat([result , solve_weights], axis = 1)\n",
    "\n",
    "result['# Buy/Sell'] = np.where(result['Status']=='Overweight',\n",
    "                                result['original num shares'] -result['New Share Amount'],\n",
    "                               result['New Share Amount'] -  result['original num shares'])\n",
    "\n",
    "result['Action']= np.where(result['Status']== 'Overweight','Sell','Buy')\n",
    "\n",
    "print('Number of Shares to Buy/Sell')\n",
    "pd.concat([result['Action'], result['# Buy/Sell']], axis = 1)\n",
    "\n"
   ]
  },
  {
   "cell_type": "code",
   "execution_count": null,
   "metadata": {},
   "outputs": [],
   "source": []
  }
 ],
 "metadata": {
  "kernelspec": {
   "display_name": "Python 3",
   "language": "python",
   "name": "python3"
  },
  "language_info": {
   "codemirror_mode": {
    "name": "ipython",
    "version": 3
   },
   "file_extension": ".py",
   "mimetype": "text/x-python",
   "name": "python",
   "nbconvert_exporter": "python",
   "pygments_lexer": "ipython3",
   "version": "3.6.5"
  }
 },
 "nbformat": 4,
 "nbformat_minor": 2
}
